{
  "nbformat": 4,
  "nbformat_minor": 0,
  "metadata": {
    "colab": {
      "name": "predictionCrime.ipynb",
      "provenance": [],
      "collapsed_sections": [],
      "authorship_tag": "ABX9TyMyDmlQg9fzktC4Qo7Va54W",
      "include_colab_link": true
    },
    "kernelspec": {
      "name": "python3",
      "display_name": "Python 3"
    },
    "accelerator": "TPU"
  },
  "cells": [
    {
      "cell_type": "markdown",
      "metadata": {
        "id": "view-in-github",
        "colab_type": "text"
      },
      "source": [
        "<a href=\"https://colab.research.google.com/github/geekaman243/WomenCellDataAnalytics/blob/master/predictionCrime.ipynb\" target=\"_parent\"><img src=\"https://colab.research.google.com/assets/colab-badge.svg\" alt=\"Open In Colab\"/></a>"
      ]
    },
    {
      "cell_type": "code",
      "metadata": {
        "id": "5Tjwq6FNd0_v",
        "colab_type": "code",
        "colab": {}
      },
      "source": [
        "import numpy as np\n",
        "import random\n",
        "import pandas as pd\n",
        "import random as rd\n",
        "from google.colab import files\n",
        "from shapely.geometry import Polygon, Point\n",
        "def random_points_within(poly, num_points):\n",
        "    min_x, min_y, max_x, max_y = poly.bounds\n",
        "\n",
        "    points = []\n",
        "\n",
        "    while len(points) < num_points:\n",
        "        random_point = Point([random.uniform(min_x, max_x), random.uniform(min_y, max_y)])\n",
        "        if (random_point.within(poly)):\n",
        "            points.append(random_point)\n",
        "\n",
        "    return points\n",
        "    poly = Polygon([(28.881426, 77.075359), (28.856170, 77.211315), (28.417491, 77.166959),(28.582837, 76.848356),(28.822546, 76.952726)])\n",
        "def createdataframe(k,points):\n",
        "  lx=[]\n",
        "  ly=[]\n",
        "  crimelisttype=[str(k)]\n",
        "  cr=[]\n",
        "  for p in points:\n",
        "     lx.append(p.x)\n",
        "     ly.append(p.y)\n",
        "     cr.append(rd.choice(crimelisttype))\n",
        "  dictionarydb={'latitude':lx,'longitude':ly,'crimeActivity':cr}\n",
        "  df = pd.DataFrame(dictionarydb)  \n",
        "  return df\n",
        "def createdatafrae(points):\n",
        "     lx=[]\n",
        "     ly=[]\n",
        "     crimelisttype=[\"trafficking\",\"kidnapping\",\"rape\",\"eve teasing\"]\n",
        "     cr=[]\n",
        "     for p in points:\n",
        "        lx.append(p.x)\n",
        "        ly.append(p.y)\n",
        "        cr.append(rd.choice(crimelisttype))\n",
        "     dictionarydb={'latitude':lx,'longitude':ly,'crimeActivity':cr}\n",
        "     df = pd.DataFrame(dictionarydb)  \n",
        "     return df"
      ],
      "execution_count": 0,
      "outputs": []
    },
    {
      "cell_type": "code",
      "metadata": {
        "id": "bXJooCckerF6",
        "colab_type": "code",
        "colab": {}
      },
      "source": [
        "#data entry in chawri bazar\n",
        "    poly = Polygon([(28.648862, 77.227192), (28.648655, 77.227498),(28.647822, 77.226473),(28.647648, 77.226940)])\n",
        "    points=random_points_within(poly,30)\n",
        "    dfb1=createdataframe(\"trafficking\",points)\n",
        "    \n",
        "    points1=random_points_within(poly,10)\n",
        "    dfr1=createdatafrae(points1)\n",
        "\n",
        "    set1=pd.concat([dfb1,dfr1],axis=0)\n",
        "    set1=set1.reset_index(drop=True)\n",
        "    \n",
        "    "
      ],
      "execution_count": 0,
      "outputs": []
    },
    {
      "cell_type": "code",
      "metadata": {
        "id": "lxrDruiGj306",
        "colab_type": "code",
        "colab": {}
      },
      "source": [
        "poly = Polygon([(28.669842, 77.276738), (28.662150, 77.272790),(28.666401, 77.276473),(28.522511, 77.202122)])\n",
        "points=random_points_within(poly,30)\n",
        "dfb2=createdataframe(\"rape\",points)\n",
        "points1=random_points_within(poly,10)\n",
        "dfr2=createdatafrae(points1)\n",
        "set2=pd.concat([dfb2,dfr2],axis=0)\n",
        "set2=set2.reset_index(drop=True)\n",
        "    \n"
      ],
      "execution_count": 0,
      "outputs": []
    },
    {
      "cell_type": "code",
      "metadata": {
        "id": "TdUAQnS7k1R3",
        "colab_type": "code",
        "colab": {}
      },
      "source": [
        "poly = Polygon([(28.720889, 77.141468), (28.669842, 77.276738), (28.662150, 77.272790),(28.666401, 77.276473)])\n",
        "points=random_points_within(poly,30)\n",
        "dfb3=createdataframe(\"eve teasing\",points)\n",
        "points1=random_points_within(poly,10)\n",
        "dfr3=createdatafrae(points1)\n",
        "set3=pd.concat([dfb3,dfr3],axis=0)\n",
        "set3=set3.reset_index(drop=True)\n",
        "    "
      ],
      "execution_count": 0,
      "outputs": []
    },
    {
      "cell_type": "code",
      "metadata": {
        "id": "EV3UK5bLmEFn",
        "colab_type": "code",
        "colab": {}
      },
      "source": [
        "poly = Polygon([(28.524924, 77.206285), (28.523427, 77.209783),(28.522511, 77.202122),(28.520192, 77.226940)])\n",
        "points=random_points_within(poly,30)\n",
        "dfb4=createdataframe(\"kidnapping\",points)\n",
        "points1=random_points_within(poly,10)\n",
        "dfr4=createdatafrae(points1)\n",
        "set4=pd.concat([dfb4,dfr4],axis=0)\n",
        "set4=set4.reset_index(drop=True)\n",
        "    \n"
      ],
      "execution_count": 0,
      "outputs": []
    },
    {
      "cell_type": "code",
      "metadata": {
        "id": "eswHlHufmcnG",
        "colab_type": "code",
        "outputId": "d79702c0-d334-4331-f879-f0e077564c04",
        "colab": {
          "base_uri": "https://localhost:8080/",
          "height": 119
        }
      },
      "source": [
        "data=pd.concat([set1,set2,set3,set4],axis=0)\n",
        "data.groupby('crimeActivity').size()\n"
      ],
      "execution_count": 0,
      "outputs": [
        {
          "output_type": "execute_result",
          "data": {
            "text/plain": [
              "crimeActivity\n",
              "eve teasing    40\n",
              "kidnapping     38\n",
              "rape           40\n",
              "trafficking    42\n",
              "dtype: int64"
            ]
          },
          "metadata": {
            "tags": []
          },
          "execution_count": 9
        }
      ]
    },
    {
      "cell_type": "code",
      "metadata": {
        "id": "-VvsKYXeqCx7",
        "colab_type": "code",
        "colab": {}
      },
      "source": [
        "rslt_df1 = data.loc[data['crimeActivity']=='trafficking']\n",
        "rslt_df2 = data.loc[data['crimeActivity']=='rape']\n",
        "rslt_df3 = data.loc[data['crimeActivity']=='eve teasing']\n",
        "rslt_df4 = data.loc[data['crimeActivity']=='kidnapping']\n"
      ],
      "execution_count": 0,
      "outputs": []
    },
    {
      "cell_type": "markdown",
      "metadata": {
        "id": "3mXsJUoRrJSE",
        "colab_type": "text"
      },
      "source": [
        "for training purpose\n"
      ]
    },
    {
      "cell_type": "code",
      "metadata": {
        "id": "tXXjv495rOPm",
        "colab_type": "code",
        "outputId": "b904a1c6-b458-4c6d-cae7-2085cfef75a8",
        "colab": {
          "base_uri": "https://localhost:8080/",
          "height": 419
        }
      },
      "source": [
        "TrainXfeature=pd.concat([rslt_df1.head(56),rslt_df2.head(49),rslt_df3.head(36),rslt_df4.head(46)],axis=0)\n",
        "TrainXfeature"
      ],
      "execution_count": 0,
      "outputs": [
        {
          "output_type": "execute_result",
          "data": {
            "text/html": [
              "<div>\n",
              "<style scoped>\n",
              "    .dataframe tbody tr th:only-of-type {\n",
              "        vertical-align: middle;\n",
              "    }\n",
              "\n",
              "    .dataframe tbody tr th {\n",
              "        vertical-align: top;\n",
              "    }\n",
              "\n",
              "    .dataframe thead th {\n",
              "        text-align: right;\n",
              "    }\n",
              "</style>\n",
              "<table border=\"1\" class=\"dataframe\">\n",
              "  <thead>\n",
              "    <tr style=\"text-align: right;\">\n",
              "      <th></th>\n",
              "      <th>latitude</th>\n",
              "      <th>longitude</th>\n",
              "      <th>crimeActivity</th>\n",
              "    </tr>\n",
              "  </thead>\n",
              "  <tbody>\n",
              "    <tr>\n",
              "      <th>0</th>\n",
              "      <td>28.647991</td>\n",
              "      <td>77.226833</td>\n",
              "      <td>trafficking</td>\n",
              "    </tr>\n",
              "    <tr>\n",
              "      <th>1</th>\n",
              "      <td>28.647798</td>\n",
              "      <td>77.226542</td>\n",
              "      <td>trafficking</td>\n",
              "    </tr>\n",
              "    <tr>\n",
              "      <th>2</th>\n",
              "      <td>28.648219</td>\n",
              "      <td>77.226983</td>\n",
              "      <td>trafficking</td>\n",
              "    </tr>\n",
              "    <tr>\n",
              "      <th>3</th>\n",
              "      <td>28.647970</td>\n",
              "      <td>77.226676</td>\n",
              "      <td>trafficking</td>\n",
              "    </tr>\n",
              "    <tr>\n",
              "      <th>4</th>\n",
              "      <td>28.647941</td>\n",
              "      <td>77.226834</td>\n",
              "      <td>trafficking</td>\n",
              "    </tr>\n",
              "    <tr>\n",
              "      <th>...</th>\n",
              "      <td>...</td>\n",
              "      <td>...</td>\n",
              "      <td>...</td>\n",
              "    </tr>\n",
              "    <tr>\n",
              "      <th>26</th>\n",
              "      <td>28.521936</td>\n",
              "      <td>77.210899</td>\n",
              "      <td>kidnapping</td>\n",
              "    </tr>\n",
              "    <tr>\n",
              "      <th>27</th>\n",
              "      <td>28.523015</td>\n",
              "      <td>77.208931</td>\n",
              "      <td>kidnapping</td>\n",
              "    </tr>\n",
              "    <tr>\n",
              "      <th>28</th>\n",
              "      <td>28.523018</td>\n",
              "      <td>77.214041</td>\n",
              "      <td>kidnapping</td>\n",
              "    </tr>\n",
              "    <tr>\n",
              "      <th>29</th>\n",
              "      <td>28.522993</td>\n",
              "      <td>77.211349</td>\n",
              "      <td>kidnapping</td>\n",
              "    </tr>\n",
              "    <tr>\n",
              "      <th>39</th>\n",
              "      <td>28.520620</td>\n",
              "      <td>77.223137</td>\n",
              "      <td>kidnapping</td>\n",
              "    </tr>\n",
              "  </tbody>\n",
              "</table>\n",
              "<p>156 rows × 3 columns</p>\n",
              "</div>"
            ],
            "text/plain": [
              "     latitude  longitude crimeActivity\n",
              "0   28.647991  77.226833   trafficking\n",
              "1   28.647798  77.226542   trafficking\n",
              "2   28.648219  77.226983   trafficking\n",
              "3   28.647970  77.226676   trafficking\n",
              "4   28.647941  77.226834   trafficking\n",
              "..        ...        ...           ...\n",
              "26  28.521936  77.210899    kidnapping\n",
              "27  28.523015  77.208931    kidnapping\n",
              "28  28.523018  77.214041    kidnapping\n",
              "29  28.522993  77.211349    kidnapping\n",
              "39  28.520620  77.223137    kidnapping\n",
              "\n",
              "[156 rows x 3 columns]"
            ]
          },
          "metadata": {
            "tags": []
          },
          "execution_count": 11
        }
      ]
    },
    {
      "cell_type": "markdown",
      "metadata": {
        "id": "eEzBCGXArx_d",
        "colab_type": "text"
      },
      "source": [
        "traning label"
      ]
    },
    {
      "cell_type": "code",
      "metadata": {
        "id": "IAW5Zi1rr3f_",
        "colab_type": "code",
        "colab": {}
      },
      "source": [
        "Ylabel=TrainXfeature.iloc[:,-1]\n",
        "TrainXfeature=TrainXfeature.drop(columns=['crimeActivity'])\n"
      ],
      "execution_count": 0,
      "outputs": []
    },
    {
      "cell_type": "markdown",
      "metadata": {
        "id": "DboGx7AeswUx",
        "colab_type": "text"
      },
      "source": [
        "testing data prepration\n"
      ]
    },
    {
      "cell_type": "code",
      "metadata": {
        "id": "N-3oPoe6sjnQ",
        "colab_type": "code",
        "colab": {}
      },
      "source": [
        "testdata=pd.concat([rslt_df1.tail(19),rslt_df2.tail(19),rslt_df3.tail(19),rslt_df4.tail(19)],axis=0)\n",
        "testdata\n",
        "Ylabeltest=testdata.iloc[:,-1]\n",
        "testdata=testdata.reset_index(drop=True)\n",
        "testdata=testdata.drop(columns=['crimeActivity'])"
      ],
      "execution_count": 0,
      "outputs": []
    },
    {
      "cell_type": "markdown",
      "metadata": {
        "id": "NMxOxsTI9WmG",
        "colab_type": "text"
      },
      "source": [
        "Machine Learning Algorithm Model"
      ]
    },
    {
      "cell_type": "code",
      "metadata": {
        "id": "e3i4CZV6wGMz",
        "colab_type": "code",
        "outputId": "c5920778-90c0-4281-f8ae-1808c33c8ac8",
        "colab": {
          "base_uri": "https://localhost:8080/",
          "height": 272
        }
      },
      "source": [
        "from sklearn.neighbors import KNeighborsClassifier\n",
        "knn = KNeighborsClassifier()\n",
        "knn.fit(TrainXfeature, Ylabel)\n",
        "KNeighborsClassifier(algorithm='auto', leaf_size=3, metric='minkowski',\n",
        "                     metric_params=None, n_jobs=None, n_neighbors=5, p=2,\n",
        "                     weights='uniform')\n",
        "print(knn.predict(testdata))"
      ],
      "execution_count": 0,
      "outputs": [
        {
          "output_type": "stream",
          "text": [
            "['trafficking' 'trafficking' 'trafficking' 'trafficking' 'eve teasing'\n",
            " 'trafficking' 'trafficking' 'trafficking' 'trafficking' 'rape'\n",
            " 'eve teasing' 'eve teasing' 'eve teasing' 'eve teasing' 'trafficking'\n",
            " 'kidnapping' 'trafficking' 'trafficking' 'kidnapping' 'rape' 'rape'\n",
            " 'rape' 'rape' 'eve teasing' 'rape' 'rape' 'rape' 'rape' 'rape' 'rape'\n",
            " 'rape' 'eve teasing' 'eve teasing' 'eve teasing' 'eve teasing'\n",
            " 'kidnapping' 'kidnapping' 'kidnapping' 'eve teasing' 'eve teasing'\n",
            " 'eve teasing' 'rape' 'eve teasing' 'eve teasing' 'eve teasing'\n",
            " 'eve teasing' 'eve teasing' 'eve teasing' 'eve teasing' 'eve teasing'\n",
            " 'eve teasing' 'eve teasing' 'eve teasing' 'eve teasing' 'eve teasing'\n",
            " 'eve teasing' 'kidnapping' 'kidnapping' 'trafficking' 'kidnapping'\n",
            " 'kidnapping' 'kidnapping' 'kidnapping' 'kidnapping' 'kidnapping'\n",
            " 'kidnapping' 'kidnapping' 'kidnapping' 'kidnapping' 'kidnapping'\n",
            " 'kidnapping' 'kidnapping' 'kidnapping' 'kidnapping' 'kidnapping'\n",
            " 'kidnapping']\n"
          ],
          "name": "stdout"
        }
      ]
    },
    {
      "cell_type": "markdown",
      "metadata": {
        "id": "jBhkdnIy9nF-",
        "colab_type": "text"
      },
      "source": [
        "Accuracy model\n"
      ]
    },
    {
      "cell_type": "code",
      "metadata": {
        "id": "uS6MT8ic1RTQ",
        "colab_type": "code",
        "outputId": "0e631471-dfc6-499f-a2f7-b10f7e3e1194",
        "colab": {
          "base_uri": "https://localhost:8080/",
          "height": 34
        }
      },
      "source": [
        "\n",
        "from sklearn.metrics import accuracy_score\n",
        "accuracy_score(list(Ylabeltest),list(knn.predict(testdata)))\n",
        "\n"
      ],
      "execution_count": 0,
      "outputs": [
        {
          "output_type": "execute_result",
          "data": {
            "text/plain": [
              "0.75"
            ]
          },
          "metadata": {
            "tags": []
          },
          "execution_count": 20
        }
      ]
    },
    {
      "cell_type": "code",
      "metadata": {
        "id": "zNcfIPKx4YOQ",
        "colab_type": "code",
        "colab": {}
      },
      "source": [
        "\n"
      ],
      "execution_count": 0,
      "outputs": []
    }
  ]
}