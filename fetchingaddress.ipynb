{
  "nbformat": 4,
  "nbformat_minor": 0,
  "metadata": {
    "colab": {
      "name": "fetchingaddress.ipynb",
      "provenance": [],
      "include_colab_link": true
    },
    "kernelspec": {
      "name": "python3",
      "display_name": "Python 3"
    },
    "accelerator": "TPU"
  },
  "cells": [
    {
      "cell_type": "markdown",
      "metadata": {
        "id": "view-in-github",
        "colab_type": "text"
      },
      "source": [
        "<a href=\"https://colab.research.google.com/github/geekaman243/WomenCellDataAnalytics/blob/master/fetchingaddress.ipynb\" target=\"_parent\"><img src=\"https://colab.research.google.com/assets/colab-badge.svg\" alt=\"Open In Colab\"/></a>"
      ]
    },
    {
      "cell_type": "code",
      "metadata": {
        "id": "Ewc8FBDdfnvp",
        "colab_type": "code",
        "outputId": "6ac2f669-17a6-4301-fef9-bef1602e06aa",
        "colab": {
          "base_uri": "https://localhost:8080/",
          "height": 121
        }
      },
      "source": [
        "import numpy as np\n",
        "import random\n",
        "import pandas as pd\n",
        "import random as rd\n",
        "from google.colab import files\n",
        "from shapely.geometry import Polygon, Point\n",
        "\n",
        "\n",
        "poly = Polygon([(28.881426, 77.075359), (28.856170, 77.211315), (28.417491, 77.166959),(28.582837, 76.848356),(28.822546, 76.952726)])\n",
        "\n",
        "def random_points_within(poly, num_points):\n",
        "    min_x, min_y, max_x, max_y = poly.bounds\n",
        "\n",
        "    points = []\n",
        "\n",
        "    while len(points) < num_points:\n",
        "        random_point = Point([random.uniform(min_x, max_x), random.uniform(min_y, max_y)])\n",
        "        if (random_point.within(poly)):\n",
        "            points.append(random_point)\n",
        "\n",
        "    return points\n",
        "\n",
        "\n",
        "points = random_points_within(poly,1175)\n",
        "lx=[]\n",
        "ly=[]\n",
        "crimelisttype=[\"\",\"molestation\",\"dowry\",\"rape\"]\n",
        "cr=[]\n",
        "for p in points:\n",
        "    lx.append(p.x)\n",
        "    ly.append(p.y)\n",
        "    cr.append(rd.choice(crimelisttype))\n",
        "\n",
        "dictionarydb={'latitude':lx,'longitude':ly,'crimeActivity':cr}\n",
        "df = pd.DataFrame(dictionarydb)\n",
        "df.to_csv('file1.csv') \n",
        "df.columns\n",
        "df.groupby('crimeActivity').size() # finding number of occurences\n"
      ],
      "execution_count": 0,
      "outputs": [
        {
          "output_type": "execute_result",
          "data": {
            "text/plain": [
              "crimeActivity\n",
              "               298\n",
              "dowry          311\n",
              "molestation    291\n",
              "rape           275\n",
              "dtype: int64"
            ]
          },
          "metadata": {
            "tags": []
          },
          "execution_count": 12
        }
      ]
    },
    {
      "cell_type": "code",
      "metadata": {
        "id": "-5KeOgB0yTXK",
        "colab_type": "code",
        "outputId": "b98abd9f-ffa4-4007-d82c-13b4b5d90260",
        "colab": {
          "base_uri": "https://localhost:8080/",
          "height": 191
        }
      },
      "source": [
        "import pandas as pd\n",
        "from geopy.geocoders import Nominatim\n",
        "geolocator = Nominatim(user_agent=\"Aman\")\n",
        "def datawomencellAuth():\n",
        "  Address=[]\n",
        "  df=pd.read_csv('file1.csv')\n",
        "  lat=list(df['latitude'])\n",
        "  lon=list(df['longitude'])\n",
        "  for i in range (10):\n",
        "    \n",
        "    try:\n",
        "        location = geolocator.reverse(str(lat[i])+\",\"+str(lon[i]))\n",
        "        Address.append(location.address)\n",
        "    except:\n",
        "        continue \n",
        "  \n",
        "  return Address \n",
        "          \n",
        "\n",
        "datawomencellAuth()    "
      ],
      "execution_count": 0,
      "outputs": [
        {
          "output_type": "execute_result",
          "data": {
            "text/plain": [
              "['Najafgarh Dhansa Road, Mitraon, Najafgarh, South West Delhi, Delhi, 110043, India',\n",
              " 'Naya Bans, North Delhi, Delhi, 110039, India',\n",
              " 'Prajapati Colony, Mehrauli, South Delhi, Delhi, 110070, India',\n",
              " 'West Delhi, Delhi, 110059, India',\n",
              " 'Rohit Kunj, North West Delhi, Delhi, 110088, India',\n",
              " 'Nizampur, Bahadurgarh, North West Delhi, Delhi, 124507, India',\n",
              " 'Carterpuri Village, Palam Vihar Extension, Gurgaon, Gurugram, Haryana, 122017, India',\n",
              " 'North Delhi, Delhi, India',\n",
              " 'Bhagwan Mahavir Marg, Janakpuri, West Delhi, Delhi, 110058, India',\n",
              " 'Sohna, Gurugram, Haryana, 122011, India']"
            ]
          },
          "metadata": {
            "tags": []
          },
          "execution_count": 11
        }
      ]
    },
    {
      "cell_type": "code",
      "metadata": {
        "id": "yVOaQv5CgeNU",
        "colab_type": "code",
        "colab": {}
      },
      "source": [
        ""
      ],
      "execution_count": 0,
      "outputs": []
    }
  ]
}